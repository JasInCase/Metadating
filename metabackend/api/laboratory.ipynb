{
 "cells": [
  {
   "cell_type": "markdown",
   "metadata": {},
   "source": [
    "# Grab data"
   ]
  },
  {
   "cell_type": "code",
   "execution_count": 6,
   "metadata": {},
   "outputs": [],
   "source": [
    "with open(r\"D:\\data\\jasincase\\swipestats\\filtered.json\", 'r', encoding='utf-8') as file:\n",
    "    text = file.read()"
   ]
  },
  {
   "cell_type": "code",
   "execution_count": 9,
   "metadata": {},
   "outputs": [],
   "source": [
    "import html"
   ]
  },
  {
   "cell_type": "code",
   "execution_count": 10,
   "metadata": {},
   "outputs": [
    {
     "data": {
      "text/plain": [
       "'birthdate: 1997-07-04T00:00:00.000Z, education: Has high school and/or college education, gender: M, cityName: Richmond, country: VA, jobs: [], educationLevel: Has high school and/or college education, schools[]\\n     Hello again, so now that we matched again, what exactly are you looking for here?\\n     Most of the girls on this app scare me, but for some reason you seem chill. Maybe it’s the fact you like to smile\\n     Dear diary, cute girl vanished... should I send a search party?\\n     Most of the girls on this app scare me, but for some reason you seem chill. Maybe it’s the fact you like the doggos\\n     Well not many people have photos of dogs, and in general, a lot of people seem like they’re trying to be edgy\\n     So tell me about yourself, favorite hobby? Favorite food? College major?\\n     What about what you like to do or eat? For me, I was a computer science major until I graduated and moved here for work\\n     https://media2.giphy.com/media&so'"
      ]
     },
     "execution_count": 10,
     "metadata": {},
     "output_type": "execute_result"
    }
   ],
   "source": [
    "s = text[:1000]\n",
    "html.unescape(s)"
   ]
  },
  {
   "cell_type": "code",
   "execution_count": 11,
   "metadata": {},
   "outputs": [
    {
     "data": {
      "text/plain": [
       "(68655937, 66713917)"
      ]
     },
     "execution_count": 11,
     "metadata": {},
     "output_type": "execute_result"
    }
   ],
   "source": [
    "lines = text.split('\\n')\n",
    "len(lines[-2]), len(''.join(lines[:-2]))"
   ]
  },
  {
   "cell_type": "code",
   "execution_count": 12,
   "metadata": {},
   "outputs": [],
   "source": [
    "import json"
   ]
  },
  {
   "cell_type": "code",
   "execution_count": 20,
   "metadata": {},
   "outputs": [
    {
     "data": {
      "text/plain": [
       "630"
      ]
     },
     "execution_count": 20,
     "metadata": {},
     "output_type": "execute_result"
    }
   ],
   "source": [
    "full = lines[-2].replace(r\"\\u201\", \"&ldquo\")\n",
    "j = json.loads(full)\n",
    "len(j)"
   ]
  },
  {
   "cell_type": "code",
   "execution_count": 21,
   "metadata": {},
   "outputs": [],
   "source": [
    "with open(r\"D:\\data\\jasincase\\swipestats\\filtered.json\", 'w', encoding='utf-8') as file:\n",
    "    json.dump(j, file, indent=4)"
   ]
  },
  {
   "cell_type": "code",
   "execution_count": 22,
   "metadata": {},
   "outputs": [
    {
     "data": {
      "text/plain": [
       "'“'"
      ]
     },
     "execution_count": 22,
     "metadata": {},
     "output_type": "execute_result"
    }
   ],
   "source": [
    "html.unescape(\"&ldquo;\")"
   ]
  },
  {
   "cell_type": "code",
   "execution_count": 28,
   "metadata": {},
   "outputs": [],
   "source": [
    "import random"
   ]
  },
  {
   "cell_type": "code",
   "execution_count": 30,
   "metadata": {},
   "outputs": [],
   "source": [
    "random.shuffle(list({1, 2, 3}))"
   ]
  },
  {
   "cell_type": "code",
   "execution_count": 33,
   "metadata": {},
   "outputs": [
    {
     "data": {
      "text/plain": [
       "'\\\\n\\\\n'"
      ]
     },
     "execution_count": 33,
     "metadata": {},
     "output_type": "execute_result"
    }
   ],
   "source": [
    "\"\\n\\n\".encode('unicode_escape').decode('utf-8')"
   ]
  },
  {
   "cell_type": "code",
   "execution_count": 1,
   "metadata": {},
   "outputs": [
    {
     "data": {
      "text/plain": [
       "'\\\\  a'"
      ]
     },
     "execution_count": 1,
     "metadata": {},
     "output_type": "execute_result"
    }
   ],
   "source": [
    "\"\\  a\""
   ]
  },
  {
   "cell_type": "code",
   "execution_count": 27,
   "metadata": {},
   "outputs": [],
   "source": [
    "msg1 = r\"How hard could it be \\U0001f937\\u200d\\u2642\\ufe0f \\x54\""
   ]
  },
  {
   "cell_type": "code",
   "execution_count": 23,
   "metadata": {},
   "outputs": [
    {
     "name": "stdout",
     "output_type": "stream",
     "text": [
      "True\n",
      "True\n",
      "b'How hard could it be \\xf0\\x9f\\xa4\\xb7\\xe2\\x80\\x8d\\xe2\\x99\\x82\\xef\\xb8\\x8f \\\\x54'\n"
     ]
    },
    {
     "data": {
      "text/plain": [
       "'How hard could it be 🤷\\u200d♂️ \\\\x54'"
      ]
     },
     "execution_count": 23,
     "metadata": {},
     "output_type": "execute_result"
    }
   ],
   "source": [
    "print(r'\\x' in msg1)\n",
    "msg = msg1.encode('unicode-escape')\n",
    "msg = msg.replace(b'\\\\\\\\u', b'\\\\u')\n",
    "msg = msg.replace(b'\\\\\\\\U', b'\\\\U')\n",
    "msg = msg.decode('unicode-escape')\n",
    "msg = msg.encode('utf8')\n",
    "print(b'\\\\x' in msg)\n",
    "msg = msg.replace(b'\\\\x', b'\\\\x')\n",
    "print(msg)\n",
    "msg = msg.decode('utf8')\n",
    "msg"
   ]
  },
  {
   "cell_type": "code",
   "execution_count": 24,
   "metadata": {},
   "outputs": [],
   "source": [
    "import codecs"
   ]
  },
  {
   "cell_type": "code",
   "execution_count": 34,
   "metadata": {},
   "outputs": [
    {
     "name": "stdout",
     "output_type": "stream",
     "text": [
      "How hard could it be 🤷‍♂️ \\x54\n"
     ]
    },
    {
     "data": {
      "text/plain": [
       "'How hard could it be 🤷\\u200d♂️ T'"
      ]
     },
     "execution_count": 34,
     "metadata": {},
     "output_type": "execute_result"
    }
   ],
   "source": [
    "msg = msg1.encode('unicode-escape')\n",
    "msg = msg.replace(b'\\\\\\\\u', b'\\\\u')\n",
    "msg = msg.replace(b'\\\\\\\\U', b'\\\\U')\n",
    "msg = msg.decode('unicode-escape')\n",
    "print(msg)\n",
    "msg = codecs.decode(msg1, \"unicode-escape\")\n",
    "msg"
   ]
  },
  {
   "cell_type": "code",
   "execution_count": 23,
   "metadata": {},
   "outputs": [],
   "source": [
    "def a(a):\n",
    "    \"\"\"Test\"\"\"\n",
    "    return a"
   ]
  },
  {
   "cell_type": "code",
   "execution_count": 24,
   "metadata": {},
   "outputs": [
    {
     "data": {
      "text/plain": [
       "'Test'"
      ]
     },
     "execution_count": 24,
     "metadata": {},
     "output_type": "execute_result"
    }
   ],
   "source": [
    "a.__doc__"
   ]
  },
  {
   "cell_type": "code",
   "execution_count": 5,
   "metadata": {},
   "outputs": [
    {
     "name": "stdout",
     "output_type": "stream",
     "text": [
      "\\x15\n"
     ]
    }
   ],
   "source": [
    "a = \"\\\\x15\"\n",
    "print(a.replace('\\\\\\\\', '\\\\'))"
   ]
  },
  {
   "cell_type": "markdown",
   "metadata": {},
   "source": [
    "# Decorators"
   ]
  },
  {
   "cell_type": "code",
   "execution_count": 18,
   "metadata": {},
   "outputs": [],
   "source": [
    "SELECT = {}\n",
    "def select_func(name):\n",
    "    def dec(func):\n",
    "        SELECT[name] = func\n",
    "        return func\n",
    "    return dec"
   ]
  },
  {
   "cell_type": "code",
   "execution_count": 19,
   "metadata": {},
   "outputs": [],
   "source": [
    "@select_func('a')\n",
    "def func_a(a):\n",
    "    return a"
   ]
  },
  {
   "cell_type": "code",
   "execution_count": 22,
   "metadata": {},
   "outputs": [
    {
     "data": {
      "text/plain": [
       "['a']"
      ]
     },
     "execution_count": 22,
     "metadata": {},
     "output_type": "execute_result"
    }
   ],
   "source": [
    "list(SELECT.keys())"
   ]
  },
  {
   "cell_type": "code",
   "execution_count": 23,
   "metadata": {},
   "outputs": [
    {
     "data": {
      "text/plain": [
       "'hello world\\n'"
      ]
     },
     "execution_count": 23,
     "metadata": {},
     "output_type": "execute_result"
    }
   ],
   "source": [
    "\"\"\"\\\n",
    "hello world\n",
    "\"\"\""
   ]
  },
  {
   "cell_type": "markdown",
   "metadata": {},
   "source": [
    "# Prompt templates"
   ]
  },
  {
   "cell_type": "code",
   "execution_count": 24,
   "metadata": {},
   "outputs": [],
   "source": [
    "import template"
   ]
  },
  {
   "cell_type": "code",
   "execution_count": 27,
   "metadata": {},
   "outputs": [
    {
     "name": "stdout",
     "output_type": "stream",
     "text": [
      "\n",
      "\n",
      "Example messages:\n",
      " - hello world\n",
      " - this is a message\n",
      " - hi\n"
     ]
    }
   ],
   "source": [
    "msgs = [\"hello world\", \"this is a message\", \"hi\"]\n",
    "print(template.example_messages(msgs))"
   ]
  },
  {
   "cell_type": "markdown",
   "metadata": {},
   "source": [
    "# Seletion Functions"
   ]
  },
  {
   "cell_type": "code",
   "execution_count": 1,
   "metadata": {},
   "outputs": [
    {
     "name": "stderr",
     "output_type": "stream",
     "text": [
      "Downloading: 100%|██████████| 1.04M/1.04M [00:00<00:00, 1.16MB/s]\n",
      "Downloading: 100%|██████████| 456k/456k [00:00<00:00, 606kB/s] \n",
      "Downloading: 100%|██████████| 1.36M/1.36M [00:02<00:00, 458kB/s]\n"
     ]
    }
   ],
   "source": [
    "from transformers import GPT2TokenizerFast\n",
    "tokenizer = GPT2TokenizerFast.from_pretrained(\"gpt2\")"
   ]
  },
  {
   "cell_type": "code",
   "execution_count": 2,
   "metadata": {},
   "outputs": [],
   "source": [
    "msgs = [\n",
    "    \"Hey girl did it hurt when you fell from heaven?\",\n",
    "    \"Yo did it hurt when you fell down from heaven?\",\n",
    "    \"haha yeah\",\n",
    "    \"thanks i try\",\n",
    "    \"idk about that but we could make something work ;)\",\n",
    "    \"yea ;)\",\n",
    "    \"how bout you?\",\n",
    "    \"what about you?\"\n",
    "]\n",
    "N = 3"
   ]
  },
  {
   "cell_type": "code",
   "execution_count": 4,
   "metadata": {},
   "outputs": [
    {
     "name": "stdout",
     "output_type": "stream",
     "text": [
      "Hey girl did it hurt when you fell from heaven? {9538, 422, 618, 750, 3214, 2576, 5938, 340, 30, 345, 10814}\n",
      "Yo did it hurt when you fell down from heaven? {866, 9538, 422, 618, 750, 3214, 5938, 340, 38101, 345, 30}\n",
      "haha yeah {10194, 12236, 71}\n",
      "thanks i try {1312, 27547, 1949}\n",
      "idk about that but we could make something work ;) {546, 356, 326, 1223, 74, 714, 787, 35540, 312, 475, 670}\n",
      "yea ;) {64, 35540, 5948}\n",
      "how bout you? {345, 30, 18222, 4919}\n",
      "what about you? {345, 546, 30, 10919}\n"
     ]
    }
   ],
   "source": [
    "for m in msgs:\n",
    "    print(m, set(tokenizer(m)['input_ids']))"
   ]
  },
  {
   "cell_type": "code",
   "execution_count": 6,
   "metadata": {},
   "outputs": [
    {
     "data": {
      "text/plain": [
       "[({30, 340, 345, 422, 618, 750, 2576, 3214, 5938, 9538, 10814},\n",
       "  'Hey girl did it hurt when you fell from heaven?'),\n",
       " ({30, 340, 345, 422, 618, 750, 866, 3214, 5938, 9538, 38101},\n",
       "  'Yo did it hurt when you fell down from heaven?'),\n",
       " ({71, 10194, 12236}, 'haha yeah'),\n",
       " ({1312, 1949, 27547}, 'thanks i try'),\n",
       " ({74, 312, 326, 356, 475, 546, 670, 714, 787, 1223, 35540},\n",
       "  'idk about that but we could make something work ;)'),\n",
       " ({64, 5948, 35540}, 'yea ;)'),\n",
       " ({30, 345, 4919, 18222}, 'how bout you?'),\n",
       " ({30, 345, 546, 10919}, 'what about you?')]"
      ]
     },
     "execution_count": 6,
     "metadata": {},
     "output_type": "execute_result"
    }
   ],
   "source": [
    "d = [(set(tokenizer(m)['input_ids']), m) for m in msgs]\n",
    "d"
   ]
  },
  {
   "cell_type": "code",
   "execution_count": 8,
   "metadata": {},
   "outputs": [
    {
     "name": "stdout",
     "output_type": "stream",
     "text": [
      "{866, 38101}\n",
      "{10194, 12236, 71}\n",
      "{1312, 27547, 1949}\n",
      "{546, 356, 326, 1223, 74, 714, 787, 35540, 312, 475, 670}\n",
      "{64, 35540, 5948}\n",
      "{18222, 4919}\n",
      "{546, 10919}\n"
     ]
    }
   ],
   "source": [
    "i = 0\n",
    "s0, m0 = d[i]\n",
    "for s, m in d[:i] + d[i+1:]:\n",
    "    print(s - s0)"
   ]
  },
  {
   "cell_type": "code",
   "execution_count": 11,
   "metadata": {},
   "outputs": [],
   "source": [
    "def max_unique_tok(msgs, N):\n",
    "    res = []\n",
    "    sets = [set(tokenizer(m)['input_ids']) for m in msgs]\n",
    "\n",
    "    for _ in range(N):\n",
    "        i, s0 = max(enumerate(sets), key = lambda x: len(x[1]))\n",
    "        res.append(msgs[i])\n",
    "        del msgs[i]\n",
    "        del sets[i]\n",
    "        for s in sets:\n",
    "            s -= s0\n",
    "    \n",
    "    return res"
   ]
  },
  {
   "cell_type": "code",
   "execution_count": 12,
   "metadata": {},
   "outputs": [
    {
     "data": {
      "text/plain": [
       "['Hey girl did it hurt when you fell from heaven?',\n",
       " 'idk about that but we could make something work ;)',\n",
       " 'haha yeah']"
      ]
     },
     "execution_count": 12,
     "metadata": {},
     "output_type": "execute_result"
    }
   ],
   "source": [
    "max_unique_tok(msgs, N)"
   ]
  },
  {
   "cell_type": "code",
   "execution_count": 13,
   "metadata": {},
   "outputs": [
    {
     "data": {
      "text/plain": [
       "196"
      ]
     },
     "execution_count": 13,
     "metadata": {},
     "output_type": "execute_result"
    }
   ],
   "source": [
    "long = \"That&apos;s so nice of Tony. Sorry you got soggy before work, that&apos;s kinda crummy. I&apos;m sure you looked cute anyway.\\nA nice thing I did for myself is take a job in Maine this summer to spend time with my family. I could have done a CoOp, but it was very nice to be home and have no stress all summer. \\n\\nI like the concept of production planning and system Simulation, but I don&apos;t love the way the classes are taught.\\n\\nMy writing course is intro to technical communication. It will be an easy class, all online. But I don&apos;t write well or easily, so it will still be a pain. But I&apos;ve finished the first assignment already and I think I can get a good grade.\\n\\nWhat are the projects that you are working on at work?\"\n",
    "len(tokenizer(long)['input_ids'])"
   ]
  },
  {
   "cell_type": "code",
   "execution_count": 14,
   "metadata": {},
   "outputs": [
    {
     "data": {
      "text/plain": [
       "['a', 'b', 'hello', 'c']"
      ]
     },
     "execution_count": 14,
     "metadata": {},
     "output_type": "execute_result"
    }
   ],
   "source": [
    "l = ['a', 'b', 'hello', long, 'c']\n",
    "[m for m in l if len(tokenizer(m)['input_ids']) < 128]"
   ]
  },
  {
   "cell_type": "markdown",
   "metadata": {},
   "source": [
    "# Test importing emojis"
   ]
  },
  {
   "cell_type": "code",
   "execution_count": 6,
   "metadata": {},
   "outputs": [],
   "source": [
    "import html\n",
    "\n",
    "with open(\"testmsg.txt\", 'r', encoding='utf-8') as file:\n",
    "    txt = file.read()\n",
    "\n",
    "txt = html.unescape(txt)\n",
    "\n",
    "with open(\"testmsg.out\", 'w', encoding='utf-8') as file:\n",
    "    file.write(txt)"
   ]
  }
 ],
 "metadata": {
  "kernelspec": {
   "display_name": "Python 3.9.0 64-bit",
   "language": "python",
   "name": "python3"
  },
  "language_info": {
   "codemirror_mode": {
    "name": "ipython",
    "version": 3
   },
   "file_extension": ".py",
   "mimetype": "text/x-python",
   "name": "python",
   "nbconvert_exporter": "python",
   "pygments_lexer": "ipython3",
   "version": "3.9.0"
  },
  "orig_nbformat": 4,
  "vscode": {
   "interpreter": {
    "hash": "12ab574d1174b33595f21ba18781e5c2f250bd3cf6cde1b025407c14ac808de6"
   }
  }
 },
 "nbformat": 4,
 "nbformat_minor": 2
}
